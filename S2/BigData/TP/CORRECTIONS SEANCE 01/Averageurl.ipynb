{
 "cells": [
  {
   "cell_type": "code",
   "execution_count": 1,
   "metadata": {},
   "outputs": [],
   "source": [
    "import findspark\n",
    "findspark.init()\n",
    "import pyspark"
   ]
  },
  {
   "cell_type": "code",
   "execution_count": 2,
   "metadata": {},
   "outputs": [],
   "source": [
    "sc = pyspark.SparkContext(appName=\"averageurl\")"
   ]
  },
  {
   "cell_type": "code",
   "execution_count": 3,
   "metadata": {},
   "outputs": [],
   "source": [
    "rdd = sc.textFile(\"C:/Users/EASYFRONT/Documents/BD/requetessql/data/urlaverage.txt\")\n",
    "rdd = rdd.map(lambda x : x.split('\\t'))\n",
    "rdd = rdd.groupByKey()\n",
    "rdd = rdd.map (lambda x : (x[0], list(x[1]) ) )\n",
    "rdd = rdd.map (lambda x : (x[0], list(map(int,x[1]))) )\n",
    "rdd = rdd.map (lambda x : (x[0], (sum(x[1]), len(x[1]))))\n",
    "rdd = rdd.map (lambda x : (x[0], x[1][0]/x[1][1]))"
   ]
  },
  {
   "cell_type": "code",
   "execution_count": 4,
   "metadata": {},
   "outputs": [
    {
     "data": {
      "text/plain": [
       "[('ddd.fr', 16.216216216216218),\n",
       " ('ggg.eu', 15.630434782608695),\n",
       " ('ccc.it', 15.688888888888888),\n",
       " ('fff.edu', 14.717948717948717),\n",
       " ('bbb.com', 15.96078431372549),\n",
       " ('aaa.com', 14.088888888888889),\n",
       " ('eee.ca', 14.432432432432432)]"
      ]
     },
     "execution_count": 4,
     "metadata": {},
     "output_type": "execute_result"
    }
   ],
   "source": [
    "rdd.collect()"
   ]
  },
  {
   "cell_type": "code",
   "execution_count": null,
   "metadata": {},
   "outputs": [],
   "source": []
  }
 ],
 "metadata": {
  "kernelspec": {
   "display_name": "Python 3",
   "language": "python",
   "name": "python3"
  },
  "language_info": {
   "codemirror_mode": {
    "name": "ipython",
    "version": 3
   },
   "file_extension": ".py",
   "mimetype": "text/x-python",
   "name": "python",
   "nbconvert_exporter": "python",
   "pygments_lexer": "ipython3",
   "version": "3.7.4"
  }
 },
 "nbformat": 4,
 "nbformat_minor": 4
}
