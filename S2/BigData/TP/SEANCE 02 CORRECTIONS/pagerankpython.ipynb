{
 "cells": [
  {
   "cell_type": "markdown",
   "metadata": {},
   "source": [
    "https://towardsdatascience.com/graphs-and-paths-pagerank-54f180a1aa0a"
   ]
  },
  {
   "cell_type": "code",
   "execution_count": 2,
   "metadata": {},
   "outputs": [],
   "source": [
    "import findspark\n",
    "findspark.init()\n",
    "import pyspark"
   ]
  },
  {
   "cell_type": "code",
   "execution_count": 3,
   "metadata": {},
   "outputs": [],
   "source": [
    "sc = pyspark.SparkContext(appName=\"PageRank\")"
   ]
  },
  {
   "cell_type": "code",
   "execution_count": 14,
   "metadata": {},
   "outputs": [],
   "source": [
    "def computeContribe(urls, rank):\n",
    "    \"\"\"calculates URL contributions to the rank of others URLs\"\"\"\n",
    "    num_urls = len(urls)\n",
    "    contribs = []\n",
    "    for url in urls:\n",
    "        contribs.append((url, rank/num_urls))\n",
    "    return contribs"
   ]
  },
  {
   "cell_type": "code",
   "execution_count": null,
   "metadata": {},
   "outputs": [],
   "source": [
    "graph = sc.textFile(\"C:/Users/EASYFRONT/Desktop/bigdata/seance02/pagerank/web-Google.txt\")\n",
    "#clean up graph rdd from comment and parse it\n",
    "graph_cup = graph.filter(lambda x : \"#\" not in x).map(lambda x : x.split(\"\\t\"))\n",
    "graph_cup.collect()"
   ]
  },
  {
   "cell_type": "code",
   "execution_count": null,
   "metadata": {},
   "outputs": [],
   "source": [
    "graph_cup.getNumPartitions()"
   ]
  },
  {
   "cell_type": "code",
   "execution_count": null,
   "metadata": {},
   "outputs": [],
   "source": [
    "#draft algorithm\n",
    "links = graph_cup.groupByKey().partitionBy(100).cache()\n",
    "#initialize the ranks to 1 for each URL\n",
    "ranks = links.map(lambda url_neighbors : (url_neighbors[0],1.0) )\n",
    "#ranks.collect()\n",
    "for iteration in range(2):\n",
    "    contribs = links.join(ranks).flatMap(lambda url_urls_rank : computeContribe(url_urls_rank[1][0],url_urls_rank[1][0]))\n",
    "    ranks = contribs.reduceByKey(lambda x,y : x+y).mapValues(lambda rank : rank*0.85 + 0.15)\n",
    "\n",
    "for (link,rank) in ranks.sortBy(lambda x:-x[1]).take(10):\n",
    "    print(\"%s has rank : %s.\" % (link, rank))"
   ]
  },
  {
   "cell_type": "code",
   "execution_count": null,
   "metadata": {},
   "outputs": [],
   "source": [
    "sc.stop()"
   ]
  },
  {
   "cell_type": "markdown",
   "metadata": {},
   "source": [
    "SMALL GRAPH EXAMPLE"
   ]
  },
  {
   "cell_type": "code",
   "execution_count": 4,
   "metadata": {},
   "outputs": [
    {
     "data": {
      "text/plain": [
       "[('Amzn', 'Twtr'),\n",
       " ('Amzn', 'Medm'),\n",
       " ('Fb', 'Amzn'),\n",
       " ('Fb', 'Twtr'),\n",
       " ('Medm', 'Twtr'),\n",
       " ('Medm', 'Amzn'),\n",
       " ('Medm', 'Mspc'),\n",
       " ('Medm', 'Fb'),\n",
       " ('Twtr', 'Medm'),\n",
       " ('Mspc', 'Twtr')]"
      ]
     },
     "execution_count": 4,
     "metadata": {},
     "output_type": "execute_result"
    }
   ],
   "source": [
    "rdd_medium_example = sc.parallelize([(\"Amzn\",\"Twtr\"),(\"Amzn\",\"Medm\"),(\"Fb\",\"Amzn\"),(\"Fb\",\"Twtr\"),(\"Medm\",\"Twtr\"),(\"Medm\",\"Amzn\"),(\"Medm\",\"Mspc\"),(\"Medm\",\"Fb\"),(\"Twtr\",\"Medm\"),(\"Mspc\",\"Twtr\")])\n",
    "rdd_medium_example.collect()"
   ]
  },
  {
   "cell_type": "code",
   "execution_count": 8,
   "metadata": {},
   "outputs": [
    {
     "data": {
      "text/plain": [
       "5"
      ]
     },
     "execution_count": 8,
     "metadata": {},
     "output_type": "execute_result"
    }
   ],
   "source": [
    "nodes = rdd_medium_example.flatMap(lambda x : [x[0]]+[x[1]]).distinct()\n",
    "nbnodes = nodes.count()\n",
    "nbnodes"
   ]
  },
  {
   "cell_type": "code",
   "execution_count": 11,
   "metadata": {},
   "outputs": [
    {
     "data": {
      "text/plain": [
       "[('Amzn', 0.2), ('Twtr', 0.2), ('Medm', 0.2), ('Fb', 0.2), ('Mspc', 0.2)]"
      ]
     },
     "execution_count": 11,
     "metadata": {},
     "output_type": "execute_result"
    }
   ],
   "source": [
    "#initialization phase\n",
    "ranks = nodes.map(lambda x : (x,1/nbnodes))\n",
    "ranks.collect()"
   ]
  },
  {
   "cell_type": "code",
   "execution_count": null,
   "metadata": {},
   "outputs": [],
   "source": [
    "#compute following structure (node, all vertices that comme out of from node (aretes sortantes))\n",
    "links = rdd_medium_example.groupByKey()\n",
    "for iteration in range(2):\n",
    "    contribs = links.join(ranks).flatMap(lambda url_urls_rank : computeContribe(url_urls_rank[1][0],url_urls_rank[1][1]))\n",
    "    ranks = contribs.reduceByKey(lambda x,y : x+y).mapValues(lambda rank : round(rank*0.85 + 0.15/nbnodes,2))\n",
    "\n",
    "for (link,rank) in ranks.sortBy(lambda x:-x[1]).collect():\n",
    "    print(\"%s has rank : %s.\" % (link, rank))"
   ]
  },
  {
   "cell_type": "markdown",
   "metadata": {},
   "source": [
    "DEMISTIFYING ONE ITERATION"
   ]
  },
  {
   "cell_type": "code",
   "execution_count": 9,
   "metadata": {},
   "outputs": [
    {
     "data": {
      "text/plain": [
       "[('Amzn', ['Twtr', 'Medm']),\n",
       " ('Medm', ['Twtr', 'Amzn', 'Mspc', 'Fb']),\n",
       " ('Twtr', ['Medm']),\n",
       " ('Fb', ['Amzn', 'Twtr']),\n",
       " ('Mspc', ['Twtr'])]"
      ]
     },
     "execution_count": 9,
     "metadata": {},
     "output_type": "execute_result"
    }
   ],
   "source": [
    "links = rdd_medium_example.groupByKey()\n",
    "links = links.map(lambda x : (x[0], list(x[1])) ) \n",
    "links.collect()"
   ]
  },
  {
   "cell_type": "code",
   "execution_count": 12,
   "metadata": {},
   "outputs": [
    {
     "data": {
      "text/plain": [
       "[('Medm', (['Twtr', 'Amzn', 'Mspc', 'Fb'], 0.2)),\n",
       " ('Twtr', (['Medm'], 0.2)),\n",
       " ('Amzn', (['Twtr', 'Medm'], 0.2)),\n",
       " ('Fb', (['Amzn', 'Twtr'], 0.2)),\n",
       " ('Mspc', (['Twtr'], 0.2))]"
      ]
     },
     "execution_count": 12,
     "metadata": {},
     "output_type": "execute_result"
    }
   ],
   "source": [
    "links_ranks = links.join(ranks)\n",
    "links_ranks.collect()"
   ]
  },
  {
   "cell_type": "code",
   "execution_count": 15,
   "metadata": {},
   "outputs": [
    {
     "data": {
      "text/plain": [
       "[('Twtr', 0.05),\n",
       " ('Amzn', 0.05),\n",
       " ('Mspc', 0.05),\n",
       " ('Fb', 0.05),\n",
       " ('Medm', 0.2),\n",
       " ('Twtr', 0.1),\n",
       " ('Medm', 0.1),\n",
       " ('Amzn', 0.1),\n",
       " ('Twtr', 0.1),\n",
       " ('Twtr', 0.2)]"
      ]
     },
     "execution_count": 15,
     "metadata": {},
     "output_type": "execute_result"
    }
   ],
   "source": [
    "contribs = links_ranks.flatMap(lambda url_urls_rank : computeContribe(url_urls_rank[1][0],url_urls_rank[1][1]))\n",
    "contribs.collect()"
   ]
  },
  {
   "cell_type": "code",
   "execution_count": 16,
   "metadata": {},
   "outputs": [
    {
     "data": {
      "text/plain": [
       "[('Twtr', 0.4125000000000001),\n",
       " ('Medm', 0.28500000000000003),\n",
       " ('Amzn', 0.1575),\n",
       " ('Mspc', 0.07250000000000001),\n",
       " ('Fb', 0.07250000000000001)]"
      ]
     },
     "execution_count": 16,
     "metadata": {},
     "output_type": "execute_result"
    }
   ],
   "source": [
    "ranks_it1 = contribs.reduceByKey(lambda x,y : x+y).mapValues(lambda rank : rank*0.85 + 0.15/nbnodes)\n",
    "ranks_it1.collect()"
   ]
  },
  {
   "cell_type": "code",
   "execution_count": null,
   "metadata": {},
   "outputs": [],
   "source": [
    "links2 = rdd_medium_example.groupByKey()\n",
    "links2 = links2.map(lambda x : (x[0], list(x[1])) ) \n",
    "links2 = links2.mapValues(lambda x : 1)\n",
    "links2.collect()"
   ]
  }
 ],
 "metadata": {
  "kernelspec": {
   "display_name": "Python 3",
   "language": "python",
   "name": "python3"
  },
  "language_info": {
   "codemirror_mode": {
    "name": "ipython",
    "version": 3
   },
   "file_extension": ".py",
   "mimetype": "text/x-python",
   "name": "python",
   "nbconvert_exporter": "python",
   "pygments_lexer": "ipython3",
   "version": "3.7.4"
  }
 },
 "nbformat": 4,
 "nbformat_minor": 4
}
