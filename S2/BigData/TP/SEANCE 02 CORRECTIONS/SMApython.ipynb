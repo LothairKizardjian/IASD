{
 "cells": [
  {
   "cell_type": "code",
   "execution_count": 1,
   "metadata": {},
   "outputs": [],
   "source": [
    "import findspark\n",
    "findspark.init()\n",
    "import pyspark\n",
    "sc = pyspark.SparkContext(appName=\"SMA\")\n",
    "import datetime"
   ]
  },
  {
   "cell_type": "code",
   "execution_count": 2,
   "metadata": {},
   "outputs": [],
   "source": [
    "def convertstringtodate(stringdate) : \n",
    "    date_time_obj = datetime.datetime.strptime(stringdate, '%Y-%m-%d')\n",
    "    date_obj = date_time_obj.date()\n",
    "    return date_obj"
   ]
  },
  {
   "cell_type": "code",
   "execution_count": 3,
   "metadata": {
    "scrolled": true
   },
   "outputs": [
    {
     "data": {
      "text/plain": [
       "[(datetime.date(2018, 3, 10), 17.0),\n",
       " (datetime.date(2018, 3, 11), 13.0),\n",
       " (datetime.date(2018, 3, 12), 25.0),\n",
       " (datetime.date(2018, 3, 13), 20.0),\n",
       " (datetime.date(2018, 3, 14), 56.0),\n",
       " (datetime.date(2018, 3, 15), 99.0),\n",
       " (datetime.date(2018, 3, 22), 156.0),\n",
       " (datetime.date(2018, 3, 31), 122.0),\n",
       " (datetime.date(2018, 4, 15), 7000.0),\n",
       " (datetime.date(2018, 4, 16), 9999.0)]"
      ]
     },
     "execution_count": 3,
     "metadata": {},
     "output_type": "execute_result"
    }
   ],
   "source": [
    "rdd = sc.parallelize([(17.00, \"2018-03-10T15:27:18+00:00\"), # The first six days are sequential\n",
    "  (13.00, \"2018-03-11T12:27:18+00:00\"),  # included ...  \n",
    "  (25.00, \"2018-03-12T11:27:18+00:00\"),  # included ...\n",
    "  (20.00, \"2018-03-13T15:27:18+00:00\"),  # included ...\n",
    "  (56.00, \"2018-03-14T12:27:18+00:00\"),  # included...\n",
    "  (99.00, \"2018-03-15T11:27:18+00:00\"),  # This one will be included with the next window\n",
    "  (156.00, \"2018-03-22T11:27:18+00:00\"), # This one is inside the 7 day window of the previous\n",
    "  (122.00, \"2018-03-31T11:27:18+00:00\"), # This one is a new window, outside the 7 day window of any previous...\n",
    "  (7000.00, \"2018-04-15T11:27:18+00:00\"),# This starts a * brand new window * with the next entry included next\n",
    "  (9999.00, \"2018-04-16T11:27:18+00:00\")])\n",
    "rdd = rdd.map(lambda x : (x[0],x[1].split(\"T\")[0])) \n",
    "rdd = rdd.map(lambda x: (convertstringtodate(x[1]), x[0]))\n",
    "rdd.collect()"
   ]
  },
  {
   "cell_type": "code",
   "execution_count": 14,
   "metadata": {},
   "outputs": [
    {
     "data": {
      "text/plain": [
       "[(datetime.date(2018, 3, 13), ([17.0, 13.0, 25.0, 20.0], 20.0)),\n",
       " (datetime.date(2018, 3, 11), ([17.0, 13.0], 13.0)),\n",
       " (datetime.date(2018, 3, 12), ([17.0, 13.0, 25.0], 25.0)),\n",
       " (datetime.date(2018, 3, 15), ([17.0, 13.0, 25.0, 20.0, 56.0, 99.0], 99.0)),\n",
       " (datetime.date(2018, 3, 31), ([122.0], 122.0)),\n",
       " (datetime.date(2018, 4, 15), ([7000.0], 7000.0)),\n",
       " (datetime.date(2018, 3, 14), ([17.0, 13.0, 25.0, 20.0, 56.0], 56.0)),\n",
       " (datetime.date(2018, 4, 16), ([7000.0, 9999.0], 9999.0)),\n",
       " (datetime.date(2018, 3, 22), ([99.0, 156.0], 156.0)),\n",
       " (datetime.date(2018, 3, 10), ([17.0], 17.0))]"
      ]
     },
     "execution_count": 14,
     "metadata": {},
     "output_type": "execute_result"
    }
   ],
   "source": [
    "#dates example\n",
    "rdd2 = rdd.flatMap(lambda x : [(x[0] + datetime.timedelta(days=i),x[1]) for i in range(8) ])\n",
    "rdd2 = rdd2.groupByKey().map(lambda x : (x[0], list(x[1])))\n",
    "rdd3 = rdd2.join(rdd)\n",
    "#rdd3 = rdd3.map(lambda x : (x[0], x[1][0]))\n",
    "#rdd3 = rdd3.map(lambda x : (x[0], sum(x[1])/len(x[1])))\n",
    "#rdd3 = rdd3.sortBy(lambda x : x[0])\n",
    "rdd3.collect()"
   ]
  },
  {
   "cell_type": "markdown",
   "metadata": {},
   "source": [
    "SIMPLE EXAMPLE WITHOUT DATES"
   ]
  },
  {
   "cell_type": "code",
   "execution_count": 33,
   "metadata": {},
   "outputs": [
    {
     "data": {
      "text/plain": [
       "[(1, 0.5),\n",
       " (2, 0.65),\n",
       " (3, 1.7666666666666666),\n",
       " (4, 2.2666666666666666),\n",
       " (5, 4.0),\n",
       " (6, 3.6666666666666665)]"
      ]
     },
     "execution_count": 33,
     "metadata": {},
     "output_type": "execute_result"
    }
   ],
   "source": [
    "#simple example without dates\n",
    "rdd = sc.parallelize([(1,0.5),(2,0.8),(3,4),(4,2),(5,6),(6,3)])\n",
    "n=3\n",
    "rdd2 = rdd.flatMap(lambda x : [(i + x[0],x[1]) for i in range(0,4) ])\n",
    "rdd2 = rdd2.groupByKey().map(lambda x : (x[0], list(x[1])))\n",
    "#value_when_true if condition else value_when_false\n",
    "rdd2 = rdd2.map(lambda x : (x[0], x[1] if len(x[1])<=3 else x[1][1:]))\n",
    "rdd2 = rdd2.join(rdd)\n",
    "rdd2 = rdd2.map(lambda x : (x[0],x[1][0]))\n",
    "rdd2 = rdd2.map(lambda x : (x[0], sum(x[1])/len(x[1])))\n",
    "rdd2.collect()"
   ]
  },
  {
   "cell_type": "code",
   "execution_count": 91,
   "metadata": {},
   "outputs": [],
   "source": [
    "rdd = sc.parallelize([(1,0.5),(2,0.8),(3,4),(4,2),(5,6),(6,3)])"
   ]
  },
  {
   "cell_type": "code",
   "execution_count": 95,
   "metadata": {},
   "outputs": [
    {
     "data": {
      "text/plain": [
       "[(1, ([0.5], 0.5)),\n",
       " (2, ([0.5, 0.8], 0.8)),\n",
       " (3, ([0.5, 0.8, 4], 4)),\n",
       " (4, ([0.8, 4, 2], 2)),\n",
       " (5, ([4, 2, 6], 6)),\n",
       " (6, ([2, 6, 3], 3))]"
      ]
     },
     "execution_count": 95,
     "metadata": {},
     "output_type": "execute_result"
    }
   ],
   "source": [
    "rdd2 = rdd.flatMap(lambda x : [(i + x[0],x[1]) for i in range(0,3) ])\n",
    "rdd2 = rdd2.groupByKey().map(lambda x : (x[0], list(x[1])))\n",
    "rdd2 = rdd2.join(rdd)\n",
    "rdd2.collect()"
   ]
  }
 ],
 "metadata": {
  "kernelspec": {
   "display_name": "Python 3",
   "language": "python",
   "name": "python3"
  },
  "language_info": {
   "codemirror_mode": {
    "name": "ipython",
    "version": 3
   },
   "file_extension": ".py",
   "mimetype": "text/x-python",
   "name": "python",
   "nbconvert_exporter": "python",
   "pygments_lexer": "ipython3",
   "version": "3.7.4"
  }
 },
 "nbformat": 4,
 "nbformat_minor": 4
}
